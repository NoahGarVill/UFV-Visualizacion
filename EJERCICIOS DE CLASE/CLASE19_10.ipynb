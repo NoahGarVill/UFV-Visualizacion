{
  "nbformat": 4,
  "nbformat_minor": 0,
  "metadata": {
    "colab": {
      "provenance": [],
      "authorship_tag": "ABX9TyOGHgGENCObRfTFgij5WeFP",
      "include_colab_link": true
    },
    "kernelspec": {
      "name": "python3",
      "display_name": "Python 3"
    },
    "language_info": {
      "name": "python"
    }
  },
  "cells": [
    {
      "cell_type": "markdown",
      "metadata": {
        "id": "view-in-github",
        "colab_type": "text"
      },
      "source": [
        "<a href=\"https://colab.research.google.com/github/NoahGarVill/UFV-Visualizacion/blob/main/EJERCICIOS%20DE%20CLASE/CLASE19_10.ipynb\" target=\"_parent\"><img src=\"https://colab.research.google.com/assets/colab-badge.svg\" alt=\"Open In Colab\"/></a>"
      ]
    },
    {
      "cell_type": "code",
      "execution_count": 3,
      "metadata": {
        "colab": {
          "base_uri": "https://localhost:8080/"
        },
        "id": "rYEaZUY7aeTc",
        "outputId": "a68c05c9-8ca4-4e19-9169-ccb79050368c"
      },
      "outputs": [
        {
          "output_type": "stream",
          "name": "stdout",
          "text": [
            "         COUNTRY        SUBBRAND  YEAR  MONTH     SCENARIO FORECAST  \\\n",
            "0       Portugal     Lipton (L3)  2023     12  AI_forecast  AI_P02F   \n",
            "1  Great Britain     Lipton (L3)  2023     12  AI_forecast  AI_P10F   \n",
            "2          Spain  Pepsi Max (L3)  2023     12  AI_forecast  AI_P09F   \n",
            "3  Great Britain        7up (L3)  2024     12  AI_forecast  AI_P10F   \n",
            "4        Hungary     Lipton (L3)  2023      9  AI_forecast  AI_P03F   \n",
            "\n",
            "   FORECAST_YEAR    AMOUNT  \n",
            "0         2023.0  7,54E+15  \n",
            "1         2023.0   5,6E+15  \n",
            "2         2023.0  8,85E+15  \n",
            "3         2023.0  3,63E+15  \n",
            "4         2023.0  3,96E+16  \n"
          ]
        }
      ],
      "source": [
        "from os import sep\n",
        "import pandas as pd\n",
        "# Lee el archivo CSV\n",
        "df = pd.read_csv('datos_ejercicio_ventas.csv', sep=';')\n",
        "\n",
        "print(df.head())"
      ]
    },
    {
      "cell_type": "code",
      "source": [
        "# Obtén el número de filas y columnas del DataFrame\n",
        "num_filas, num_columnas = df.shape\n",
        "\n",
        "# Imprime el tamaño del conjunto de datos\n",
        "print(f\"El conjunto de datos tiene {num_filas} filas y {num_columnas} columnas.\")"
      ],
      "metadata": {
        "colab": {
          "base_uri": "https://localhost:8080/"
        },
        "id": "CopHzkmMlb4X",
        "outputId": "1c40b75f-e9dc-40f5-dc31-eae858df8b1b"
      },
      "execution_count": 4,
      "outputs": [
        {
          "output_type": "stream",
          "name": "stdout",
          "text": [
            "El conjunto de datos tiene 18666 filas y 8 columnas.\n"
          ]
        }
      ]
    },
    {
      "cell_type": "code",
      "source": [
        "# Cuenta la cantidad de \"Actual\" y \"Forecast\" en la columna SCENARIO\n",
        "counts = df['SCENARIO'].value_counts()\n",
        "\n",
        "# Imprime los resultados\n",
        "print(counts)"
      ],
      "metadata": {
        "colab": {
          "base_uri": "https://localhost:8080/"
        },
        "id": "cunLHbvHcfb3",
        "outputId": "ed7de025-3c6d-4c9d-d1d4-620ec72ccb12"
      },
      "execution_count": 5,
      "outputs": [
        {
          "output_type": "stream",
          "name": "stdout",
          "text": [
            "SCENARIO\n",
            "AI_forecast    17766\n",
            "actual           900\n",
            "Name: count, dtype: int64\n"
          ]
        }
      ]
    },
    {
      "cell_type": "code",
      "source": [
        "# Obtén el número de países únicos\n",
        "num_paises = df['COUNTRY'].nunique()\n",
        "\n",
        "# Obtén el número de productos únicos\n",
        "num_productos = df['SUBBRAND'].nunique()\n",
        "\n",
        "# Imprime los resultados\n",
        "print(f\"El número de países únicos es: {num_paises}\")\n",
        "print(f\"El número de productos únicos es: {num_productos}\")"
      ],
      "metadata": {
        "colab": {
          "base_uri": "https://localhost:8080/"
        },
        "id": "0H0W84GohxWj",
        "outputId": "6ac6e0a9-ece6-4f2b-d5ac-7c6e5d510ea6"
      },
      "execution_count": 6,
      "outputs": [
        {
          "output_type": "stream",
          "name": "stdout",
          "text": [
            "El número de países únicos es: 9\n",
            "El número de productos únicos es: 6\n"
          ]
        }
      ]
    },
    {
      "cell_type": "code",
      "source": [],
      "metadata": {
        "id": "_Bw4TpVTlvVz"
      },
      "execution_count": 6,
      "outputs": []
    }
  ]
}